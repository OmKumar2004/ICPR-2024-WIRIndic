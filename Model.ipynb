{
  "cells": [
    {
      "cell_type": "code",
      "execution_count": 39,
      "metadata": {
        "id": "i3SCSmZKg7ev"
      },
      "outputs": [],
      "source": [
        "# hold to your courage hold to your wits\n",
        "# Imports\n",
        "import torch\n",
        "\n",
        "import torch.nn as nn\n",
        "import torch\n",
        "import torch.optim as optim\n",
        "from torchvision import transforms\n",
        "from tqdm import tqdm\n",
        "#from torchsummary import summary\n",
        "import math\n",
        "\n",
        "import torch.nn.functional as F"
      ]
    },
    {
      "cell_type": "code",
      "execution_count": 40,
      "metadata": {
        "colab": {
          "base_uri": "https://localhost:8080/"
        },
        "id": "wUZHSWQUgUuX",
        "outputId": "ff572672-44fa-4f2f-afdf-580edd24bf41"
      },
      "outputs": [
        {
          "name": "stdout",
          "output_type": "stream",
          "text": [
            "cuda\n"
          ]
        }
      ],
      "source": [
        "#device\n",
        "device = 'cuda' if torch.cuda.is_available() else 'cpu'\n",
        "print(device)"
      ]
    },
    {
      "cell_type": "code",
      "execution_count": 41,
      "metadata": {
        "id": "AID1p3229wfB"
      },
      "outputs": [],
      "source": [
        "img_channel=3\n",
        "img_height=32\n",
        "img_width=100\n",
        "num_class=128+1\n",
        "map_to_seq_hidden=64\n",
        "rnn_hidden=128 + 15"
      ]
    },
    {
      "cell_type": "code",
      "execution_count": 42,
      "metadata": {},
      "outputs": [],
      "source": [
        "class ECABlock(nn.Module):\n",
        "    def __init__(self, channels, k_size=3):\n",
        "        super(ECABlock, self).__init__()\n",
        "        self.avg_pool = nn.AdaptiveAvgPool2d(1)\n",
        "        self.conv1d = nn.Conv1d(1, 1, kernel_size=k_size, padding=(k_size - 1) // 2, bias=False)\n",
        "        self.sigmoid = nn.Sigmoid()\n",
        "\n",
        "    def forward(self, x):\n",
        "        y = self.avg_pool(x)  \n",
        "        y = y.squeeze(-1).transpose(-1, -2)  # (bs, c, 1) -> (bs, 1, c)\n",
        "        y = self.conv1d(y)  \n",
        "        y = self.sigmoid(y)  \n",
        "        y = y.transpose(-1, -2).unsqueeze(-1)  #  (bs, 1, c) - (bs, c, 1, 1)\n",
        "        y = y.expand_as(x)  \n",
        "        return x * y  # why this?\n"
      ]
    },
    {
      "cell_type": "code",
      "execution_count": 43,
      "metadata": {},
      "outputs": [],
      "source": [
        "# Model\n",
        "\n",
        "class CRNN_2(nn.Module):\n",
        "\n",
        "    def __init__(self, img_channel=3, img_height=28, img_width=128, num_class=128+1,\n",
        "                 map_to_seq_hidden=64, rnn_hidden=128, leaky_relu=False):\n",
        "        super(CRNN_2, self).__init__()\n",
        "        \n",
        "\n",
        "        self.cnn, (output_channel, output_height, output_width) = \\\n",
        "            self._cnn_backbone(img_channel, img_height, img_width, leaky_relu)\n",
        "\n",
        "        self.map_to_seq = nn.Linear(output_channel * output_height, map_to_seq_hidden)\n",
        "\n",
        "        self.rnn1 = nn.LSTM(map_to_seq_hidden, rnn_hidden, bidirectional=True )\n",
        "        self.rnn2 = nn.LSTM(2 * rnn_hidden, rnn_hidden, bidirectional=True,num_layers=2,dropout=0.5) #,num_layers=2,dropout=0.4\n",
        "\n",
        "        self.dense = nn.Linear(2 * rnn_hidden, num_class)\n",
        "\n",
        "    def _cnn_backbone(self, img_channel, img_height, img_width, leaky_relu):\n",
        "        assert img_height % 16 == 0\n",
        "        assert img_width % 4 == 0\n",
        "\n",
        "        channels = [img_channel, 64, 128, 256, 256,350, 400 ,400]\n",
        "        kernel_sizes = [3, 3, 3, 3, 3, 3,2]\n",
        "        strides = [1, 1, 1,1, 1,1 ,1]\n",
        "        paddings = [1, 1, 1, 1 ,1,1, 0]\n",
        "\n",
        "        cnn = nn.Sequential()\n",
        "\n",
        "        def conv_relu(i, batch_norm=False):\n",
        "            # shape of input: (batch, input_channel, height, width)\n",
        "            input_channel = channels[i]\n",
        "            output_channel = channels[i+1]\n",
        "\n",
        "            cnn.add_module(\n",
        "                f'conv{i}',\n",
        "                nn.Conv2d(input_channel, output_channel, kernel_sizes[i], strides[i], paddings[i])\n",
        "            )\n",
        "\n",
        "            if batch_norm:\n",
        "                cnn.add_module(f'batchnorm{i}', nn.BatchNorm2d(output_channel))\n",
        "\n",
        "            relu = nn.LeakyReLU(0.2, inplace=True) if leaky_relu else nn.ReLU(inplace=True)\n",
        "            cnn.add_module(f'relu{i}', relu)\n",
        "            if output_channel > 256:\n",
        "                cnn.add_module(f'attention{i}',ECABlock(output_channel))\n",
        "\n",
        "        # size of image: (channel, height, width) = (img_channel, img_height, img_width)\n",
        "        conv_relu(0)\n",
        "        \n",
        "        cnn.add_module('pooling0', nn.MaxPool2d(kernel_size=2, stride=2))\n",
        "        # (64, img_height // 2, img_width // 2)\n",
        "\n",
        "        conv_relu(1)\n",
        "        cnn.add_module('dropout0',nn.Dropout2d(p=0.2)) # Dropout\n",
        "        cnn.add_module('pooling1', nn.MaxPool2d(kernel_size=2, stride=2))\n",
        "        # (128, img_height // 4, img_width // 4)\n",
        "\n",
        "        conv_relu(2)\n",
        "        \n",
        "        cnn.add_module('dropout1',nn.Dropout2d(p=0.2)) # Dropout\n",
        "        conv_relu(3)\n",
        "        cnn.add_module('dropout2',nn.Dropout2d(p=0.3))\n",
        "        cnn.add_module(\n",
        "            'pooling2',\n",
        "            nn.MaxPool2d(kernel_size=(2, 1))\n",
        "        )  # (256, img_height // 8, img_width // 4)\n",
        "\n",
        "        conv_relu(4, batch_norm=True)\n",
        "        cnn.add_module('dropout2',nn.Dropout2d(p=0.4))\n",
        "        conv_relu(5, batch_norm=True)\n",
        "        cnn.add_module('dropout2',nn.Dropout2d(p=0.4))\n",
        "        cnn.add_module(\n",
        "            'pooling3',\n",
        "            nn.MaxPool2d(kernel_size=(2, 1))\n",
        "        )  # (512, img_height // 16, img_width // 4)\n",
        "\n",
        "        conv_relu(6)  # (512, img_height // 16 - 1, img_width // 4 - 1)\n",
        "\n",
        "        output_channel, output_height, output_width = \\\n",
        "            channels[-1], img_height // 16-1 , img_width // 4 -1\n",
        "        return cnn, (output_channel, output_height, output_width)\n",
        "\n",
        "    def forward(self, images):\n",
        "        # shape of images: (batch, channel, height, width)\n",
        "\n",
        "        conv = self.cnn(images)\n",
        "        batch, channel, height, width = conv.size()\n",
        "\n",
        "        conv = conv.view(batch, channel * height, width)\n",
        "        conv = conv.permute(2, 0, 1)  # (width, batch, feature)\n",
        "        seq = self.map_to_seq(conv)\n",
        "\n",
        "        recurrent, _ = self.rnn1(seq)\n",
        "        recurrent, _ = self.rnn2(recurrent)\n",
        "\n",
        "        output = self.dense(recurrent)\n",
        "        return output  # shape: (seq_len, batch, num_class)"
      ]
    },
    {
      "cell_type": "code",
      "execution_count": 44,
      "metadata": {
        "id": "3ptpX5UmrVDh"
      },
      "outputs": [],
      "source": [
        "# load pretrained model if available\n",
        "#model_2 = torch.load('model_2.pth')"
      ]
    },
    {
      "cell_type": "code",
      "execution_count": 45,
      "metadata": {
        "id": "q1Hz04XO2uBi"
      },
      "outputs": [],
      "source": [
        "model_2 = CRNN_2( img_channel, img_height, img_width, num_class,map_to_seq_hidden, rnn_hidden).to(device)"
      ]
    },
    {
      "cell_type": "code",
      "execution_count": 46,
      "metadata": {
        "id": "f3IxaDUggUuZ"
      },
      "outputs": [],
      "source": [
        "# transform\n",
        "transform= transforms.Compose([\n",
        "    transforms.ToTensor(),\n",
        "    transforms.Resize((32,128)),\n",
        "    transforms.RandomRotation(degrees=20),\n",
        "])"
      ]
    },
    {
      "cell_type": "code",
      "execution_count": 47,
      "metadata": {
        "id": "bynQHV-AgUua"
      },
      "outputs": [],
      "source": [
        "# Hyperparams\n",
        "batch_size =512\n",
        "lr = 0.0003\n",
        "epochs = 200\n",
        "criterion = nn.CTCLoss()\n",
        "optimiser = optim.Adam(model_2.parameters(),lr=lr, weight_decay=1e-5)\n",
        "#optimiser = torch.optim.AdamW(model_2.parameters(), lr=0.0003)\n",
        "\n",
        "scheduler = optim.lr_scheduler.ReduceLROnPlateau(optimiser, 'min', patience=10, factor=0.1)\n"
      ]
    },
    {
      "cell_type": "code",
      "execution_count": 48,
      "metadata": {
        "id": "cZtqghWCgUua"
      },
      "outputs": [],
      "source": [
        "#data loders\n",
        "import os\n",
        "from PIL import Image\n",
        "from torch.utils.data import Dataset,random_split\n",
        "# from matplotlib import pyplot as plt\n",
        "\n",
        "class CustomImageTextDataset(Dataset):\n",
        "    def __init__(self, image_dir, image_names, texts, transform=None):\n",
        "        self.image_dir = image_dir\n",
        "        self.image_names = image_names\n",
        "        self.texts = texts\n",
        "        self.transform = transform\n",
        "\n",
        "    def __len__(self):\n",
        "        return len(self.image_names)\n",
        "\n",
        "    def __getitem__(self, idx):\n",
        "        img_path =    self.image_names[idx]\n",
        "        image = Image.open(img_path).convert('RGB')\n",
        "        text = self.texts[idx]\n",
        "\n",
        "        if self.transform:\n",
        "            image = self.transform(image)\n",
        "\n",
        "        return image, text\n",
        "\n",
        "##\n",
        "class mydataset:\n",
        "    def __init__(self,data_dir,transform=None,val=False):\n",
        "        #paths to the directories/files\n",
        "        extraction_path = data_dir\n",
        "        image_dir = os.path.join(extraction_path, 'images')\n",
        "        text_file_path = os.path.join(extraction_path, 'train_labels.txt' if val==False else 'val_labels.txt')\n",
        "        image_names_file_path = os.path.join(extraction_path, 'train_images.txt' if val==False else 'val_images.txt')\n",
        "\n",
        "        #read the image names\n",
        "        with open(image_names_file_path, 'r',encoding='utf-8') as f:\n",
        "            image_names = f.read().splitlines()\n",
        "\n",
        "        #read the texts\n",
        "        with open(text_file_path, 'r',encoding='utf-8') as f:\n",
        "            texts = f.read().splitlines()\n",
        "\n",
        "        # ensure that image_names and texts have the same length\n",
        "        assert len(image_names) == len(texts), \"Mismatch between image names and texts\"\n",
        "        # retrurn object of you clss\n",
        "        self.dataset= CustomImageTextDataset(image_dir=image_dir, image_names=image_names, texts=texts, transform=transform)\n",
        "\n",
        "    def get_dataset(self):\n",
        "        return self.dataset\n",
        "\n",
        "# # dataset\n",
        "from torch.utils.data import DataLoader\n",
        "\n",
        "\n",
        "#dataset->train\n",
        "data_train = mydataset(data_dir='train',transform=transform)\n",
        "data_train = data_train.get_dataset()\n",
        "data_train,_ = random_split(data_train,[len(data_train)//1,len(data_train)-len(data_train)//1])\n",
        "\n",
        "#dataset->val\n",
        "data_val = mydataset(data_dir='val',transform=transform,val=True)\n",
        "data_val = data_val.get_dataset()\n",
        "\n",
        " #dataloaders\n",
        "trainloader = DataLoader(data_train,shuffle=True,batch_size=batch_size)\n",
        "valloader = DataLoader(data_val,shuffle=True,batch_size=batch_size)"
      ]
    },
    {
      "cell_type": "code",
      "execution_count": 49,
      "metadata": {
        "colab": {
          "base_uri": "https://localhost:8080/"
        },
        "id": "TkKawgkVgUua",
        "outputId": "ba8bb4c7-8f2b-443b-bd9e-765870404c20"
      },
      "outputs": [
        {
          "name": "stdout",
          "output_type": "stream",
          "text": [
            "5\n"
          ]
        },
        {
          "data": {
            "text/plain": [
              "35"
            ]
          },
          "execution_count": 49,
          "metadata": {},
          "output_type": "execute_result"
        }
      ],
      "source": [
        "print(valloader.__len__())\n",
        "trainloader.__len__()"
      ]
    },
    {
      "cell_type": "code",
      "execution_count": 50,
      "metadata": {
        "id": "HscjN-IggUua"
      },
      "outputs": [],
      "source": [
        "# Label Transformer\n",
        "class LabelTransformer():\n",
        "    \"\"\"\n",
        "    encoder and decoder\n",
        "\n",
        "    Args:\n",
        "        letters (str): Letters contained in the data\n",
        "    \"\"\"\n",
        "\n",
        "    def __init__(self, letters= \"ಂಃಅಆಇಈಉಊಋಌಎಏಐಒಓಔಕಖಗಘಙಚಛಜಝಞಟಠಡಢಣತಥದಧನಪಫಬಭಮಯರಱಲಳವಶಷಸಹ಼ಽಾಿೀುೂೃೄೆೇೈೊೋೌ್ೕೖೞೠೡೢೣ೦೧೨೩೪೫೬೭೮೯ೱೲ\"):\n",
        "        self.encode_map = {letter: idx+1 for idx, letter in enumerate(letters)}\n",
        "        self.decode_map = ' ' + letters\n",
        "\n",
        "    # def encode(self, text):\n",
        "    #     if isinstance(text, str):\n",
        "    #         length = [len(text)]\n",
        "    #         result = [self.encode_map[letter] for letter in text]\n",
        "    #     else:\n",
        "    #         length = []\n",
        "    #         result = []\n",
        "    #         for word in text:\n",
        "    #             length.append(len(word))\n",
        "    #             result.extend([self.encode_map[letter] for letter in word])\n",
        "    #     return torch.IntTensor(result), torch.IntTensor(length)\n",
        "    def encode(self, text):\n",
        "        result = []\n",
        "        length = []\n",
        "        for word in text:\n",
        "            length.append(len(word))\n",
        "            for letter in word:\n",
        "                if letter in self.encode_map:\n",
        "                    result.append(self.encode_map[letter])\n",
        "                else:\n",
        "                    # Log the problematic letter and the word it was part of\n",
        "                    # print(f\"Warning: Character '{letter}' not found in encode_map. In word: '{word}'\")\n",
        "                    # Optionally, handle the unknown character\n",
        "                    result.append(self.encode_map.get('unknown', 0))  # Use a default value or handle as needed\n",
        "        return torch.IntTensor(result), torch.IntTensor(length)\n",
        "\n",
        "    def decode(self, text_code, length):\n",
        "        result = []\n",
        "        idx = 0\n",
        "        for len in length:\n",
        "            word = []\n",
        "            for i in range(len):\n",
        "                if text_code[idx] != 0 and (i == 0 or text_code[idx] != text_code[idx - 1]):\n",
        "                    word.append(self.decode_map[text_code[idx]])\n",
        "                idx += 1\n",
        "            result.append(''.join(word))\n",
        "        return result\n"
      ]
    },
    {
      "cell_type": "code",
      "execution_count": 51,
      "metadata": {
        "id": "2yUTlGCFgUup"
      },
      "outputs": [],
      "source": [
        "# CTC decoder\n",
        "def ctc_decoder(predictions, label_transformer, blank=0):\n",
        "    decoded_output = []\n",
        "    batch_size = predictions.size(1)\n",
        "    max_seq_length = predictions.size(0)\n",
        "\n",
        "    # Get the indices of the max probabilities (predictions)\n",
        "    _, max_indices = torch.max(predictions, 2)\n",
        "\n",
        "    for batch in range(batch_size):\n",
        "        pred_string = []\n",
        "        previous_char = None\n",
        "        for t in range(max_seq_length):\n",
        "            current_char = max_indices[t][batch].item()\n",
        "            if current_char != blank and current_char != previous_char:\n",
        "                pred_string.append(current_char)\n",
        "            previous_char = current_char\n",
        "        decoded_output.append(''.join([label_transformer.decode_map[idx] for idx in pred_string if idx != blank]))\n",
        "\n",
        "    return decoded_output"
      ]
    },
    {
      "cell_type": "code",
      "execution_count": 52,
      "metadata": {
        "id": "3iNOtkGORIb_"
      },
      "outputs": [],
      "source": [
        "# val acc\n",
        "def val_acc(model,loader,labeltransform):\n",
        "  model.eval()\n",
        "  with torch.no_grad():\n",
        "    total_correct = 0\n",
        "    total_samples = 0\n",
        "    for data, target in tqdm(loader):\n",
        "        data = data.to(device)\n",
        "\n",
        "        pred = model(data)  # Model output shape: (seq_len, batch_size, num_classes)\n",
        "\n",
        "        # Decode predictions\n",
        "        pred_decoded = ctc_decoder(pred, labeltransform)\n",
        "\n",
        "        # Compute the number of correct predictions\n",
        "        correct_predictions = sum(p == t for p, t in zip(pred_decoded, target))\n",
        "        total_correct += correct_predictions\n",
        "        total_samples += len(target)\n",
        "\n",
        "    # Calculate accuracy\n",
        "    acc = total_correct *100/ total_samples\n",
        "    print(f'Validation Accuracy: {acc:.4f}')\n",
        "    return acc\n"
      ]
    },
    {
      "cell_type": "code",
      "execution_count": 53,
      "metadata": {
        "colab": {
          "base_uri": "https://localhost:8080/",
          "height": 894
        },
        "collapsed": true,
        "id": "0YNYCqbd7pe5",
        "outputId": "ca62ad57-985e-449b-caa3-6836e1c08934"
      },
      "outputs": [
        {
          "name": "stdout",
          "output_type": "stream",
          "text": [
            "============== epoch : 0 =============\n"
          ]
        },
        {
          "name": "stderr",
          "output_type": "stream",
          "text": [
            "35it [03:52,  6.66s/it]\n"
          ]
        },
        {
          "name": "stdout",
          "output_type": "stream",
          "text": [
            "epoch : 0 loss 12.018446241106306\n"
          ]
        },
        {
          "name": "stderr",
          "output_type": "stream",
          "text": [
            "100%|██████████| 5/5 [00:30<00:00,  6.07s/it]\n"
          ]
        },
        {
          "name": "stdout",
          "output_type": "stream",
          "text": [
            "Validation Accuracy: 0.0000\n"
          ]
        },
        {
          "name": "stderr",
          "output_type": "stream",
          "text": [
            "100%|██████████| 35/35 [00:48<00:00,  1.38s/it]\n"
          ]
        },
        {
          "name": "stdout",
          "output_type": "stream",
          "text": [
            "Validation Accuracy: 0.0114\n",
            "============== epoch : 1 =============\n"
          ]
        },
        {
          "name": "stderr",
          "output_type": "stream",
          "text": [
            "35it [04:25,  7.60s/it]\n"
          ]
        },
        {
          "name": "stdout",
          "output_type": "stream",
          "text": [
            "epoch : 1 loss 3.9659824848175047\n",
            "============== epoch : 2 =============\n"
          ]
        },
        {
          "name": "stderr",
          "output_type": "stream",
          "text": [
            "35it [05:30,  9.45s/it]\n"
          ]
        },
        {
          "name": "stdout",
          "output_type": "stream",
          "text": [
            "epoch : 2 loss 3.8376657962799072\n",
            "============== epoch : 3 =============\n"
          ]
        },
        {
          "name": "stderr",
          "output_type": "stream",
          "text": [
            "35it [06:38, 11.39s/it]\n"
          ]
        },
        {
          "name": "stdout",
          "output_type": "stream",
          "text": [
            "epoch : 3 loss 3.7994773728506908\n",
            "============== epoch : 4 =============\n"
          ]
        },
        {
          "name": "stderr",
          "output_type": "stream",
          "text": [
            "35it [06:26, 11.04s/it]\n"
          ]
        },
        {
          "name": "stdout",
          "output_type": "stream",
          "text": [
            "epoch : 4 loss 3.763892800467355\n",
            "============== epoch : 5 =============\n"
          ]
        },
        {
          "name": "stderr",
          "output_type": "stream",
          "text": [
            "35it [06:38, 11.40s/it]\n"
          ]
        },
        {
          "name": "stdout",
          "output_type": "stream",
          "text": [
            "epoch : 5 loss 3.7342359951564243\n"
          ]
        },
        {
          "name": "stderr",
          "output_type": "stream",
          "text": [
            "100%|██████████| 5/5 [01:06<00:00, 13.38s/it]\n"
          ]
        },
        {
          "name": "stdout",
          "output_type": "stream",
          "text": [
            "Validation Accuracy: 0.0000\n"
          ]
        },
        {
          "name": "stderr",
          "output_type": "stream",
          "text": [
            "100%|██████████| 35/35 [04:41<00:00,  8.06s/it]\n"
          ]
        },
        {
          "name": "stdout",
          "output_type": "stream",
          "text": [
            "Validation Accuracy: 0.0114\n",
            "============== epoch : 6 =============\n"
          ]
        },
        {
          "name": "stderr",
          "output_type": "stream",
          "text": [
            "35it [06:51, 11.76s/it]\n"
          ]
        },
        {
          "name": "stdout",
          "output_type": "stream",
          "text": [
            "epoch : 6 loss 3.715666811806815\n",
            "============== epoch : 7 =============\n"
          ]
        },
        {
          "name": "stderr",
          "output_type": "stream",
          "text": [
            "35it [06:46, 11.63s/it]\n"
          ]
        },
        {
          "name": "stdout",
          "output_type": "stream",
          "text": [
            "epoch : 7 loss 3.6965186732155937\n",
            "============== epoch : 8 =============\n"
          ]
        },
        {
          "name": "stderr",
          "output_type": "stream",
          "text": [
            "35it [06:41, 11.48s/it]\n"
          ]
        },
        {
          "name": "stdout",
          "output_type": "stream",
          "text": [
            "epoch : 8 loss 3.6986708777291435\n",
            "============== epoch : 9 =============\n"
          ]
        },
        {
          "name": "stderr",
          "output_type": "stream",
          "text": [
            "35it [06:17, 10.78s/it]\n"
          ]
        },
        {
          "name": "stdout",
          "output_type": "stream",
          "text": [
            "epoch : 9 loss 3.6800170489719934\n",
            "============== epoch : 10 =============\n"
          ]
        },
        {
          "name": "stderr",
          "output_type": "stream",
          "text": [
            "35it [06:04, 10.41s/it]\n"
          ]
        },
        {
          "name": "stdout",
          "output_type": "stream",
          "text": [
            "epoch : 10 loss 3.665705108642578\n"
          ]
        },
        {
          "name": "stderr",
          "output_type": "stream",
          "text": [
            "100%|██████████| 5/5 [00:36<00:00,  7.25s/it]\n"
          ]
        },
        {
          "name": "stdout",
          "output_type": "stream",
          "text": [
            "Validation Accuracy: 0.0000\n"
          ]
        },
        {
          "name": "stderr",
          "output_type": "stream",
          "text": [
            "100%|██████████| 35/35 [04:17<00:00,  7.35s/it]\n"
          ]
        },
        {
          "name": "stdout",
          "output_type": "stream",
          "text": [
            "Validation Accuracy: 0.0114\n",
            "============== epoch : 11 =============\n"
          ]
        },
        {
          "name": "stderr",
          "output_type": "stream",
          "text": [
            "35it [06:05, 10.43s/it]\n"
          ]
        },
        {
          "name": "stdout",
          "output_type": "stream",
          "text": [
            "epoch : 11 loss 3.657414143426078\n",
            "============== epoch : 12 =============\n"
          ]
        },
        {
          "name": "stderr",
          "output_type": "stream",
          "text": [
            "35it [06:18, 10.82s/it]\n"
          ]
        },
        {
          "name": "stdout",
          "output_type": "stream",
          "text": [
            "epoch : 12 loss 3.810915429251535\n",
            "============== epoch : 13 =============\n"
          ]
        },
        {
          "name": "stderr",
          "output_type": "stream",
          "text": [
            "35it [05:52, 10.06s/it]\n"
          ]
        },
        {
          "name": "stdout",
          "output_type": "stream",
          "text": [
            "epoch : 13 loss 3.666113267626081\n",
            "============== epoch : 14 =============\n"
          ]
        },
        {
          "name": "stderr",
          "output_type": "stream",
          "text": [
            "35it [05:38,  9.67s/it]\n"
          ]
        },
        {
          "name": "stdout",
          "output_type": "stream",
          "text": [
            "epoch : 14 loss 3.6460169655936103\n",
            "============== epoch : 15 =============\n"
          ]
        },
        {
          "name": "stderr",
          "output_type": "stream",
          "text": [
            "35it [06:51, 11.77s/it]\n"
          ]
        },
        {
          "name": "stdout",
          "output_type": "stream",
          "text": [
            "epoch : 15 loss 3.809569617680141\n"
          ]
        },
        {
          "name": "stderr",
          "output_type": "stream",
          "text": [
            "100%|██████████| 5/5 [00:36<00:00,  7.37s/it]\n"
          ]
        },
        {
          "name": "stdout",
          "output_type": "stream",
          "text": [
            "Validation Accuracy: 0.0000\n"
          ]
        },
        {
          "name": "stderr",
          "output_type": "stream",
          "text": [
            "100%|██████████| 35/35 [04:18<00:00,  7.39s/it]\n"
          ]
        },
        {
          "name": "stdout",
          "output_type": "stream",
          "text": [
            "Validation Accuracy: 0.0114\n",
            "============== epoch : 16 =============\n"
          ]
        },
        {
          "name": "stderr",
          "output_type": "stream",
          "text": [
            "35it [06:56, 11.91s/it]\n"
          ]
        },
        {
          "name": "stdout",
          "output_type": "stream",
          "text": [
            "epoch : 16 loss 3.686087077004569\n",
            "============== epoch : 17 =============\n"
          ]
        },
        {
          "name": "stderr",
          "output_type": "stream",
          "text": [
            "35it [06:32, 11.22s/it]\n"
          ]
        },
        {
          "name": "stdout",
          "output_type": "stream",
          "text": [
            "epoch : 17 loss 3.64206668308803\n",
            "============== epoch : 18 =============\n"
          ]
        },
        {
          "name": "stderr",
          "output_type": "stream",
          "text": [
            "35it [06:33, 11.23s/it]\n"
          ]
        },
        {
          "name": "stdout",
          "output_type": "stream",
          "text": [
            "epoch : 18 loss 3.6398325647626604\n",
            "============== epoch : 19 =============\n"
          ]
        },
        {
          "name": "stderr",
          "output_type": "stream",
          "text": [
            "35it [06:17, 10.77s/it]\n"
          ]
        },
        {
          "name": "stdout",
          "output_type": "stream",
          "text": [
            "epoch : 19 loss 3.634634576525007\n",
            "============== epoch : 20 =============\n"
          ]
        },
        {
          "name": "stderr",
          "output_type": "stream",
          "text": [
            "35it [06:42, 11.50s/it]\n"
          ]
        },
        {
          "name": "stdout",
          "output_type": "stream",
          "text": [
            "epoch : 20 loss 3.629819849559239\n"
          ]
        },
        {
          "name": "stderr",
          "output_type": "stream",
          "text": [
            "100%|██████████| 5/5 [00:35<00:00,  7.13s/it]\n"
          ]
        },
        {
          "name": "stdout",
          "output_type": "stream",
          "text": [
            "Validation Accuracy: 0.0000\n"
          ]
        },
        {
          "name": "stderr",
          "output_type": "stream",
          "text": [
            "100%|██████████| 35/35 [04:16<00:00,  7.31s/it]\n"
          ]
        },
        {
          "name": "stdout",
          "output_type": "stream",
          "text": [
            "Validation Accuracy: 0.0114\n",
            "============== epoch : 21 =============\n"
          ]
        },
        {
          "name": "stderr",
          "output_type": "stream",
          "text": [
            "35it [06:08, 10.52s/it]\n"
          ]
        },
        {
          "name": "stdout",
          "output_type": "stream",
          "text": [
            "epoch : 21 loss 3.629171528135027\n",
            "============== epoch : 22 =============\n"
          ]
        },
        {
          "name": "stderr",
          "output_type": "stream",
          "text": [
            "35it [06:12, 10.65s/it]\n"
          ]
        },
        {
          "name": "stdout",
          "output_type": "stream",
          "text": [
            "epoch : 22 loss 3.6262703554970876\n",
            "============== epoch : 23 =============\n"
          ]
        },
        {
          "name": "stderr",
          "output_type": "stream",
          "text": [
            "35it [05:34,  9.55s/it]\n"
          ]
        },
        {
          "name": "stdout",
          "output_type": "stream",
          "text": [
            "epoch : 23 loss 3.6216349601745605\n",
            "============== epoch : 24 =============\n"
          ]
        },
        {
          "name": "stderr",
          "output_type": "stream",
          "text": [
            "35it [05:29,  9.42s/it]\n"
          ]
        },
        {
          "name": "stdout",
          "output_type": "stream",
          "text": [
            "epoch : 24 loss 3.6215459414890834\n",
            "============== epoch : 25 =============\n"
          ]
        },
        {
          "name": "stderr",
          "output_type": "stream",
          "text": [
            "35it [05:29,  9.40s/it]\n"
          ]
        },
        {
          "name": "stdout",
          "output_type": "stream",
          "text": [
            "epoch : 25 loss 3.62020708492824\n"
          ]
        },
        {
          "name": "stderr",
          "output_type": "stream",
          "text": [
            "100%|██████████| 5/5 [00:28<00:00,  5.73s/it]\n"
          ]
        },
        {
          "name": "stdout",
          "output_type": "stream",
          "text": [
            "Validation Accuracy: 0.0000\n"
          ]
        },
        {
          "name": "stderr",
          "output_type": "stream",
          "text": [
            "100%|██████████| 35/35 [03:20<00:00,  5.72s/it]\n"
          ]
        },
        {
          "name": "stdout",
          "output_type": "stream",
          "text": [
            "Validation Accuracy: 0.0114\n",
            "============== epoch : 26 =============\n"
          ]
        },
        {
          "name": "stderr",
          "output_type": "stream",
          "text": [
            "35it [05:29,  9.41s/it]\n"
          ]
        },
        {
          "name": "stdout",
          "output_type": "stream",
          "text": [
            "epoch : 26 loss 3.614537763595581\n",
            "============== epoch : 27 =============\n"
          ]
        },
        {
          "name": "stderr",
          "output_type": "stream",
          "text": [
            "35it [05:29,  9.41s/it]\n"
          ]
        },
        {
          "name": "stdout",
          "output_type": "stream",
          "text": [
            "epoch : 27 loss 3.6113827432904926\n",
            "============== epoch : 28 =============\n"
          ]
        },
        {
          "name": "stderr",
          "output_type": "stream",
          "text": [
            "35it [05:29,  9.41s/it]\n"
          ]
        },
        {
          "name": "stdout",
          "output_type": "stream",
          "text": [
            "epoch : 28 loss 3.6064945016588483\n",
            "============== epoch : 29 =============\n"
          ]
        },
        {
          "name": "stderr",
          "output_type": "stream",
          "text": [
            "35it [05:29,  9.41s/it]\n"
          ]
        },
        {
          "name": "stdout",
          "output_type": "stream",
          "text": [
            "epoch : 29 loss 3.5996040139879497\n",
            "============== epoch : 30 =============\n"
          ]
        },
        {
          "name": "stderr",
          "output_type": "stream",
          "text": [
            "35it [05:29,  9.40s/it]\n"
          ]
        },
        {
          "name": "stdout",
          "output_type": "stream",
          "text": [
            "epoch : 30 loss 3.5800095285688127\n"
          ]
        },
        {
          "name": "stderr",
          "output_type": "stream",
          "text": [
            "100%|██████████| 5/5 [00:28<00:00,  5.72s/it]\n"
          ]
        },
        {
          "name": "stdout",
          "output_type": "stream",
          "text": [
            "Validation Accuracy: 0.0000\n"
          ]
        },
        {
          "name": "stderr",
          "output_type": "stream",
          "text": [
            "100%|██████████| 35/35 [03:20<00:00,  5.72s/it]\n"
          ]
        },
        {
          "name": "stdout",
          "output_type": "stream",
          "text": [
            "Validation Accuracy: 0.0114\n",
            "============== epoch : 31 =============\n"
          ]
        },
        {
          "name": "stderr",
          "output_type": "stream",
          "text": [
            "35it [05:28,  9.39s/it]\n"
          ]
        },
        {
          "name": "stdout",
          "output_type": "stream",
          "text": [
            "epoch : 31 loss 3.5719607489449636\n",
            "============== epoch : 32 =============\n"
          ]
        },
        {
          "name": "stderr",
          "output_type": "stream",
          "text": [
            "35it [05:28,  9.39s/it]\n"
          ]
        },
        {
          "name": "stdout",
          "output_type": "stream",
          "text": [
            "epoch : 32 loss 3.56241329738072\n",
            "============== epoch : 33 =============\n"
          ]
        },
        {
          "name": "stderr",
          "output_type": "stream",
          "text": [
            "35it [05:32,  9.51s/it]\n"
          ]
        },
        {
          "name": "stdout",
          "output_type": "stream",
          "text": [
            "epoch : 33 loss 3.5459111077444896\n",
            "============== epoch : 34 =============\n"
          ]
        },
        {
          "name": "stderr",
          "output_type": "stream",
          "text": [
            "35it [05:29,  9.41s/it]\n"
          ]
        },
        {
          "name": "stdout",
          "output_type": "stream",
          "text": [
            "epoch : 34 loss 3.5383300713130406\n",
            "============== epoch : 35 =============\n"
          ]
        },
        {
          "name": "stderr",
          "output_type": "stream",
          "text": [
            "35it [05:30,  9.43s/it]\n"
          ]
        },
        {
          "name": "stdout",
          "output_type": "stream",
          "text": [
            "epoch : 35 loss 3.615359122412545\n"
          ]
        },
        {
          "name": "stderr",
          "output_type": "stream",
          "text": [
            "100%|██████████| 5/5 [00:35<00:00,  7.14s/it]\n"
          ]
        },
        {
          "name": "stdout",
          "output_type": "stream",
          "text": [
            "Validation Accuracy: 0.0000\n"
          ]
        },
        {
          "name": "stderr",
          "output_type": "stream",
          "text": [
            "100%|██████████| 35/35 [03:33<00:00,  6.11s/it]\n"
          ]
        },
        {
          "name": "stdout",
          "output_type": "stream",
          "text": [
            "Validation Accuracy: 0.0114\n",
            "============== epoch : 36 =============\n"
          ]
        },
        {
          "name": "stderr",
          "output_type": "stream",
          "text": [
            "35it [05:52, 10.07s/it]\n"
          ]
        },
        {
          "name": "stdout",
          "output_type": "stream",
          "text": [
            "epoch : 36 loss 3.6047399452754427\n",
            "============== epoch : 37 =============\n"
          ]
        },
        {
          "name": "stderr",
          "output_type": "stream",
          "text": [
            "35it [05:47,  9.94s/it]\n"
          ]
        },
        {
          "name": "stdout",
          "output_type": "stream",
          "text": [
            "epoch : 37 loss 3.554686198915754\n",
            "============== epoch : 38 =============\n"
          ]
        },
        {
          "name": "stderr",
          "output_type": "stream",
          "text": [
            "35it [05:57, 10.22s/it]\n"
          ]
        },
        {
          "name": "stdout",
          "output_type": "stream",
          "text": [
            "epoch : 38 loss 3.536082567487444\n",
            "============== epoch : 39 =============\n"
          ]
        },
        {
          "name": "stderr",
          "output_type": "stream",
          "text": [
            "35it [05:32,  9.51s/it]\n"
          ]
        },
        {
          "name": "stdout",
          "output_type": "stream",
          "text": [
            "epoch : 39 loss 3.5325555528913224\n",
            "============== epoch : 40 =============\n"
          ]
        },
        {
          "name": "stderr",
          "output_type": "stream",
          "text": [
            "35it [05:32,  9.49s/it]\n"
          ]
        },
        {
          "name": "stdout",
          "output_type": "stream",
          "text": [
            "epoch : 40 loss 3.6265627929142545\n"
          ]
        },
        {
          "name": "stderr",
          "output_type": "stream",
          "text": [
            "100%|██████████| 5/5 [00:29<00:00,  5.86s/it]\n"
          ]
        },
        {
          "name": "stdout",
          "output_type": "stream",
          "text": [
            "Validation Accuracy: 0.0000\n"
          ]
        },
        {
          "name": "stderr",
          "output_type": "stream",
          "text": [
            "100%|██████████| 35/35 [03:22<00:00,  5.79s/it]\n"
          ]
        },
        {
          "name": "stdout",
          "output_type": "stream",
          "text": [
            "Validation Accuracy: 0.0114\n",
            "============== epoch : 41 =============\n"
          ]
        },
        {
          "name": "stderr",
          "output_type": "stream",
          "text": [
            "35it [05:32,  9.50s/it]\n"
          ]
        },
        {
          "name": "stdout",
          "output_type": "stream",
          "text": [
            "epoch : 41 loss 3.68743143762861\n",
            "============== epoch : 42 =============\n"
          ]
        },
        {
          "name": "stderr",
          "output_type": "stream",
          "text": [
            "35it [05:32,  9.49s/it]\n"
          ]
        },
        {
          "name": "stdout",
          "output_type": "stream",
          "text": [
            "epoch : 42 loss 3.5983219282967704\n",
            "============== epoch : 43 =============\n"
          ]
        },
        {
          "name": "stderr",
          "output_type": "stream",
          "text": [
            "35it [05:32,  9.49s/it]\n"
          ]
        },
        {
          "name": "stdout",
          "output_type": "stream",
          "text": [
            "epoch : 43 loss 3.586940424782889\n",
            "============== epoch : 44 =============\n"
          ]
        },
        {
          "name": "stderr",
          "output_type": "stream",
          "text": [
            "35it [05:32,  9.50s/it]\n"
          ]
        },
        {
          "name": "stdout",
          "output_type": "stream",
          "text": [
            "epoch : 44 loss 3.9081858158111573\n",
            "============== epoch : 45 =============\n"
          ]
        },
        {
          "name": "stderr",
          "output_type": "stream",
          "text": [
            "35it [05:32,  9.49s/it]\n"
          ]
        },
        {
          "name": "stdout",
          "output_type": "stream",
          "text": [
            "epoch : 45 loss 3.615515763419015\n"
          ]
        },
        {
          "name": "stderr",
          "output_type": "stream",
          "text": [
            "100%|██████████| 5/5 [00:28<00:00,  5.79s/it]\n"
          ]
        },
        {
          "name": "stdout",
          "output_type": "stream",
          "text": [
            "Validation Accuracy: 0.0000\n"
          ]
        },
        {
          "name": "stderr",
          "output_type": "stream",
          "text": [
            "100%|██████████| 35/35 [03:22<00:00,  5.79s/it]\n"
          ]
        },
        {
          "name": "stdout",
          "output_type": "stream",
          "text": [
            "Validation Accuracy: 0.0114\n",
            "============== epoch : 46 =============\n"
          ]
        },
        {
          "name": "stderr",
          "output_type": "stream",
          "text": [
            "35it [05:32,  9.50s/it]\n"
          ]
        },
        {
          "name": "stdout",
          "output_type": "stream",
          "text": [
            "epoch : 46 loss 3.5905037266867503\n",
            "============== epoch : 47 =============\n"
          ]
        },
        {
          "name": "stderr",
          "output_type": "stream",
          "text": [
            "35it [05:32,  9.50s/it]\n"
          ]
        },
        {
          "name": "stdout",
          "output_type": "stream",
          "text": [
            "epoch : 47 loss 3.688518639973232\n",
            "============== epoch : 48 =============\n"
          ]
        },
        {
          "name": "stderr",
          "output_type": "stream",
          "text": [
            "35it [05:32,  9.49s/it]\n"
          ]
        },
        {
          "name": "stdout",
          "output_type": "stream",
          "text": [
            "epoch : 48 loss 3.595443493979318\n",
            "============== epoch : 49 =============\n"
          ]
        },
        {
          "name": "stderr",
          "output_type": "stream",
          "text": [
            "35it [05:32,  9.49s/it]\n"
          ]
        },
        {
          "name": "stdout",
          "output_type": "stream",
          "text": [
            "epoch : 49 loss 3.5865071501050676\n",
            "============== epoch : 50 =============\n"
          ]
        },
        {
          "name": "stderr",
          "output_type": "stream",
          "text": [
            "35it [05:50, 10.01s/it]\n"
          ]
        },
        {
          "name": "stdout",
          "output_type": "stream",
          "text": [
            "epoch : 50 loss 3.5805677345820834\n"
          ]
        },
        {
          "name": "stderr",
          "output_type": "stream",
          "text": [
            "100%|██████████| 5/5 [00:35<00:00,  7.07s/it]\n"
          ]
        },
        {
          "name": "stdout",
          "output_type": "stream",
          "text": [
            "Validation Accuracy: 0.0000\n"
          ]
        },
        {
          "name": "stderr",
          "output_type": "stream",
          "text": [
            "100%|██████████| 35/35 [04:08<00:00,  7.11s/it]\n"
          ]
        },
        {
          "name": "stdout",
          "output_type": "stream",
          "text": [
            "Validation Accuracy: 0.0057\n",
            "============== epoch : 51 =============\n"
          ]
        },
        {
          "name": "stderr",
          "output_type": "stream",
          "text": [
            "35it [06:20, 10.87s/it]\n"
          ]
        },
        {
          "name": "stdout",
          "output_type": "stream",
          "text": [
            "epoch : 51 loss 3.579515436717442\n",
            "============== epoch : 52 =============\n"
          ]
        },
        {
          "name": "stderr",
          "output_type": "stream",
          "text": [
            "35it [06:08, 10.54s/it]\n"
          ]
        },
        {
          "name": "stdout",
          "output_type": "stream",
          "text": [
            "epoch : 52 loss 3.58171592439924\n",
            "============== epoch : 53 =============\n"
          ]
        },
        {
          "name": "stderr",
          "output_type": "stream",
          "text": [
            "35it [06:02, 10.36s/it]\n"
          ]
        },
        {
          "name": "stdout",
          "output_type": "stream",
          "text": [
            "epoch : 53 loss 3.5797931262425013\n",
            "============== epoch : 54 =============\n"
          ]
        },
        {
          "name": "stderr",
          "output_type": "stream",
          "text": [
            "35it [06:21, 10.89s/it]\n"
          ]
        },
        {
          "name": "stdout",
          "output_type": "stream",
          "text": [
            "epoch : 54 loss 3.6123058523450577\n",
            "============== epoch : 55 =============\n"
          ]
        },
        {
          "name": "stderr",
          "output_type": "stream",
          "text": [
            "35it [06:15, 10.72s/it]\n"
          ]
        },
        {
          "name": "stdout",
          "output_type": "stream",
          "text": [
            "epoch : 55 loss 3.674945422581264\n"
          ]
        },
        {
          "name": "stderr",
          "output_type": "stream",
          "text": [
            "100%|██████████| 5/5 [00:39<00:00,  7.99s/it]\n"
          ]
        },
        {
          "name": "stdout",
          "output_type": "stream",
          "text": [
            "Validation Accuracy: 0.0000\n"
          ]
        },
        {
          "name": "stderr",
          "output_type": "stream",
          "text": [
            "100%|██████████| 35/35 [04:32<00:00,  7.78s/it]\n"
          ]
        },
        {
          "name": "stdout",
          "output_type": "stream",
          "text": [
            "Validation Accuracy: 0.0114\n",
            "============== epoch : 56 =============\n"
          ]
        },
        {
          "name": "stderr",
          "output_type": "stream",
          "text": [
            "35it [06:07, 10.51s/it]\n"
          ]
        },
        {
          "name": "stdout",
          "output_type": "stream",
          "text": [
            "epoch : 56 loss 3.890699277605329\n",
            "============== epoch : 57 =============\n"
          ]
        },
        {
          "name": "stderr",
          "output_type": "stream",
          "text": [
            "35it [06:04, 10.41s/it]\n"
          ]
        },
        {
          "name": "stdout",
          "output_type": "stream",
          "text": [
            "epoch : 57 loss 3.940535511289324\n",
            "============== epoch : 58 =============\n"
          ]
        },
        {
          "name": "stderr",
          "output_type": "stream",
          "text": [
            "35it [06:02, 10.36s/it]\n"
          ]
        },
        {
          "name": "stdout",
          "output_type": "stream",
          "text": [
            "epoch : 58 loss 3.8961835656847272\n",
            "============== epoch : 59 =============\n"
          ]
        },
        {
          "name": "stderr",
          "output_type": "stream",
          "text": [
            "35it [06:00, 10.30s/it]\n"
          ]
        },
        {
          "name": "stdout",
          "output_type": "stream",
          "text": [
            "epoch : 59 loss 3.8507874965667725\n",
            "============== epoch : 60 =============\n"
          ]
        },
        {
          "name": "stderr",
          "output_type": "stream",
          "text": [
            "35it [06:01, 10.32s/it]\n"
          ]
        },
        {
          "name": "stdout",
          "output_type": "stream",
          "text": [
            "epoch : 60 loss 3.8056130273001534\n"
          ]
        },
        {
          "name": "stderr",
          "output_type": "stream",
          "text": [
            "100%|██████████| 5/5 [00:38<00:00,  7.65s/it]\n"
          ]
        },
        {
          "name": "stdout",
          "output_type": "stream",
          "text": [
            "Validation Accuracy: 0.0000\n"
          ]
        },
        {
          "name": "stderr",
          "output_type": "stream",
          "text": [
            "100%|██████████| 35/35 [04:16<00:00,  7.32s/it]\n"
          ]
        },
        {
          "name": "stdout",
          "output_type": "stream",
          "text": [
            "Validation Accuracy: 0.0114\n",
            "============== epoch : 61 =============\n"
          ]
        },
        {
          "name": "stderr",
          "output_type": "stream",
          "text": [
            "35it [06:00, 10.30s/it]\n"
          ]
        },
        {
          "name": "stdout",
          "output_type": "stream",
          "text": [
            "epoch : 61 loss 3.7623586927141464\n",
            "============== epoch : 62 =============\n"
          ]
        },
        {
          "name": "stderr",
          "output_type": "stream",
          "text": [
            "35it [06:09, 10.56s/it]\n"
          ]
        },
        {
          "name": "stdout",
          "output_type": "stream",
          "text": [
            "epoch : 62 loss 3.7382443700517927\n",
            "============== epoch : 63 =============\n"
          ]
        },
        {
          "name": "stderr",
          "output_type": "stream",
          "text": [
            "35it [07:36, 13.05s/it]\n"
          ]
        },
        {
          "name": "stdout",
          "output_type": "stream",
          "text": [
            "epoch : 63 loss 3.7375751835959297\n",
            "============== epoch : 64 =============\n"
          ]
        },
        {
          "name": "stderr",
          "output_type": "stream",
          "text": [
            "35it [07:25, 12.74s/it]\n"
          ]
        },
        {
          "name": "stdout",
          "output_type": "stream",
          "text": [
            "epoch : 64 loss 3.732443346296038\n",
            "============== epoch : 65 =============\n"
          ]
        },
        {
          "name": "stderr",
          "output_type": "stream",
          "text": [
            "35it [05:58, 10.24s/it]\n"
          ]
        },
        {
          "name": "stdout",
          "output_type": "stream",
          "text": [
            "epoch : 65 loss 3.7291099957057408\n"
          ]
        },
        {
          "name": "stderr",
          "output_type": "stream",
          "text": [
            "100%|██████████| 5/5 [00:38<00:00,  7.65s/it]\n"
          ]
        },
        {
          "name": "stdout",
          "output_type": "stream",
          "text": [
            "Validation Accuracy: 0.0000\n"
          ]
        },
        {
          "name": "stderr",
          "output_type": "stream",
          "text": [
            "100%|██████████| 35/35 [04:15<00:00,  7.30s/it]\n"
          ]
        },
        {
          "name": "stdout",
          "output_type": "stream",
          "text": [
            "Validation Accuracy: 0.0114\n",
            "============== epoch : 66 =============\n"
          ]
        },
        {
          "name": "stderr",
          "output_type": "stream",
          "text": [
            "35it [05:59, 10.26s/it]\n"
          ]
        },
        {
          "name": "stdout",
          "output_type": "stream",
          "text": [
            "epoch : 66 loss 3.723175539289202\n",
            "============== epoch : 67 =============\n"
          ]
        },
        {
          "name": "stderr",
          "output_type": "stream",
          "text": [
            "35it [05:58, 10.24s/it]\n"
          ]
        },
        {
          "name": "stdout",
          "output_type": "stream",
          "text": [
            "epoch : 67 loss 3.7237564836229597\n",
            "============== epoch : 68 =============\n"
          ]
        },
        {
          "name": "stderr",
          "output_type": "stream",
          "text": [
            "35it [05:57, 10.22s/it]\n"
          ]
        },
        {
          "name": "stdout",
          "output_type": "stream",
          "text": [
            "epoch : 68 loss 3.7199020862579344\n",
            "============== epoch : 69 =============\n"
          ]
        },
        {
          "name": "stderr",
          "output_type": "stream",
          "text": [
            "35it [06:00, 10.29s/it]\n"
          ]
        },
        {
          "name": "stdout",
          "output_type": "stream",
          "text": [
            "epoch : 69 loss 3.7271373203822544\n",
            "============== epoch : 70 =============\n"
          ]
        },
        {
          "name": "stderr",
          "output_type": "stream",
          "text": [
            "35it [06:04, 10.43s/it]\n"
          ]
        },
        {
          "name": "stdout",
          "output_type": "stream",
          "text": [
            "epoch : 70 loss 3.7204137529645647\n"
          ]
        },
        {
          "name": "stderr",
          "output_type": "stream",
          "text": [
            "100%|██████████| 5/5 [00:29<00:00,  5.82s/it]\n"
          ]
        },
        {
          "name": "stdout",
          "output_type": "stream",
          "text": [
            "Validation Accuracy: 0.0000\n"
          ]
        },
        {
          "name": "stderr",
          "output_type": "stream",
          "text": [
            "100%|██████████| 35/35 [03:24<00:00,  5.83s/it]\n"
          ]
        },
        {
          "name": "stdout",
          "output_type": "stream",
          "text": [
            "Validation Accuracy: 0.0114\n",
            "============== epoch : 71 =============\n"
          ]
        },
        {
          "name": "stderr",
          "output_type": "stream",
          "text": [
            "35it [05:37,  9.64s/it]\n"
          ]
        },
        {
          "name": "stdout",
          "output_type": "stream",
          "text": [
            "epoch : 71 loss 3.7219226905277796\n",
            "============== epoch : 72 =============\n"
          ]
        },
        {
          "name": "stderr",
          "output_type": "stream",
          "text": [
            "35it [05:34,  9.57s/it]\n"
          ]
        },
        {
          "name": "stdout",
          "output_type": "stream",
          "text": [
            "epoch : 72 loss 3.7201955795288084\n",
            "============== epoch : 73 =============\n"
          ]
        },
        {
          "name": "stderr",
          "output_type": "stream",
          "text": [
            "35it [05:34,  9.57s/it]\n"
          ]
        },
        {
          "name": "stdout",
          "output_type": "stream",
          "text": [
            "epoch : 73 loss 3.7165046623774938\n",
            "============== epoch : 74 =============\n"
          ]
        },
        {
          "name": "stderr",
          "output_type": "stream",
          "text": [
            "35it [05:47,  9.92s/it]\n"
          ]
        },
        {
          "name": "stdout",
          "output_type": "stream",
          "text": [
            "epoch : 74 loss 3.7171919209616524\n",
            "============== epoch : 75 =============\n"
          ]
        },
        {
          "name": "stderr",
          "output_type": "stream",
          "text": [
            "35it [05:49,  9.99s/it]\n"
          ]
        },
        {
          "name": "stdout",
          "output_type": "stream",
          "text": [
            "epoch : 75 loss 3.718807772227696\n"
          ]
        },
        {
          "name": "stderr",
          "output_type": "stream",
          "text": [
            "100%|██████████| 5/5 [00:39<00:00,  7.83s/it]\n"
          ]
        },
        {
          "name": "stdout",
          "output_type": "stream",
          "text": [
            "Validation Accuracy: 0.0000\n"
          ]
        },
        {
          "name": "stderr",
          "output_type": "stream",
          "text": [
            "100%|██████████| 35/35 [05:38<00:00,  9.66s/it]\n"
          ]
        },
        {
          "name": "stdout",
          "output_type": "stream",
          "text": [
            "Validation Accuracy: 0.0114\n",
            "============== epoch : 76 =============\n"
          ]
        },
        {
          "name": "stderr",
          "output_type": "stream",
          "text": [
            "35it [05:32,  9.51s/it]\n"
          ]
        },
        {
          "name": "stdout",
          "output_type": "stream",
          "text": [
            "epoch : 76 loss 3.7191260474068777\n",
            "============== epoch : 77 =============\n"
          ]
        },
        {
          "name": "stderr",
          "output_type": "stream",
          "text": [
            "35it [05:32,  9.49s/it]\n"
          ]
        },
        {
          "name": "stdout",
          "output_type": "stream",
          "text": [
            "epoch : 77 loss 3.717685890197754\n",
            "============== epoch : 78 =============\n"
          ]
        },
        {
          "name": "stderr",
          "output_type": "stream",
          "text": [
            "35it [05:45,  9.89s/it]\n"
          ]
        },
        {
          "name": "stdout",
          "output_type": "stream",
          "text": [
            "epoch : 78 loss 3.718906000682286\n",
            "============== epoch : 79 =============\n"
          ]
        },
        {
          "name": "stderr",
          "output_type": "stream",
          "text": [
            "35it [06:31, 11.20s/it]\n"
          ]
        },
        {
          "name": "stdout",
          "output_type": "stream",
          "text": [
            "epoch : 79 loss 3.71404606955392\n",
            "============== epoch : 80 =============\n"
          ]
        },
        {
          "name": "stderr",
          "output_type": "stream",
          "text": [
            "35it [06:23, 10.97s/it]\n"
          ]
        },
        {
          "name": "stdout",
          "output_type": "stream",
          "text": [
            "epoch : 80 loss 3.717430019378662\n"
          ]
        },
        {
          "name": "stderr",
          "output_type": "stream",
          "text": [
            "100%|██████████| 5/5 [00:49<00:00,  9.89s/it]\n"
          ]
        },
        {
          "name": "stdout",
          "output_type": "stream",
          "text": [
            "Validation Accuracy: 0.0000\n"
          ]
        },
        {
          "name": "stderr",
          "output_type": "stream",
          "text": [
            "100%|██████████| 35/35 [04:22<00:00,  7.50s/it]\n"
          ]
        },
        {
          "name": "stdout",
          "output_type": "stream",
          "text": [
            "Validation Accuracy: 0.0114\n",
            "============== epoch : 81 =============\n"
          ]
        },
        {
          "name": "stderr",
          "output_type": "stream",
          "text": [
            "35it [06:15, 10.72s/it]\n"
          ]
        },
        {
          "name": "stdout",
          "output_type": "stream",
          "text": [
            "epoch : 81 loss 3.7159846782684327\n",
            "============== epoch : 82 =============\n"
          ]
        },
        {
          "name": "stderr",
          "output_type": "stream",
          "text": [
            "35it [12:59, 22.27s/it] \n"
          ]
        },
        {
          "name": "stdout",
          "output_type": "stream",
          "text": [
            "epoch : 82 loss 3.718151208332607\n",
            "============== epoch : 83 =============\n"
          ]
        },
        {
          "name": "stderr",
          "output_type": "stream",
          "text": [
            "28it [37:29, 16.07s/it] "
          ]
        }
      ],
      "source": [
        "# # Training Loop goes here\n",
        "# loss=[]\n",
        "# epoch_loss=0\n",
        "# labeltransform = LabelTransformer()\n",
        "\n",
        "# for epoch in range(epochs):\n",
        "#     model_2.train()\n",
        "#     print(\"============== epoch :\",epoch,\"=============\")\n",
        "#     for idx,(data,targets) in tqdm(enumerate(trainloader)):\n",
        "#         data = data.to(device)\n",
        "#         x = targets\n",
        "#         # Output\n",
        "#         targets,target_length = labeltransform.encode(targets)\n",
        "#         optimiser.zero_grad()\n",
        "#         # out\n",
        "#         out = model_2(data)\n",
        "#         out_length = torch.IntTensor([out.size(0)]*out.size(1))\n",
        "\n",
        "#         # Loss\n",
        "#         loss = criterion(F.log_softmax(out,2),targets,out_length,target_length)\n",
        "#         loss.backward()\n",
        "#         # Gradient Clipping\n",
        "#         #torch.nn.utils.clip_grad_norm_(model_2.parameters(), max_norm=1)\n",
        "#         # Optim\n",
        "#         optimiser.step()\n",
        "\n",
        "#         epoch_loss += loss.item()\n",
        "#     # After epoch loss calculation\n",
        "#     scheduler.step(epoch_loss / len(trainloader))\n",
        "#     print(\"epoch :\",epoch,\"loss\",epoch_loss/len(trainloader))\n",
        "\n",
        "#     if(epoch % 5 == 0):\n",
        "#       acc = val_acc(model_2,valloader,labeltransform)\n",
        "#       val_acc(model_2,trainloader,labeltransform)\n",
        "#     if(acc > 75):\n",
        "#         #save the trained model\n",
        "#         torch.save(model_2.state_dict(), 'model_75+.pth')\n",
        "#         break\n",
        "#     loss.append(epoch_loss)\n",
        "#     epoch_loss=0\n",
        "\n",
        "\n",
        "\n",
        "# Training Loop goes here\n",
        "epoch_losses=[]\n",
        "epoch_loss=0\n",
        "labeltransform = LabelTransformer()\n",
        "\n",
        "for epoch in range(epochs):\n",
        "    model_2.train()\n",
        "    print(\"============== epoch :\",epoch,\"=============\")\n",
        "    for idx,(data,targets) in tqdm(enumerate(trainloader)):\n",
        "        data = data.to(device)\n",
        "        x = targets\n",
        "        # Output\n",
        "        targets,target_length = labeltransform.encode(targets)\n",
        "        optimiser.zero_grad()\n",
        "        # out\n",
        "        out = model_2(data)\n",
        "        out_length = torch.IntTensor([out.size(0)]*out.size(1))\n",
        "\n",
        "        # Loss\n",
        "        loss_value = criterion(F.log_softmax(out,2),targets,out_length,target_length)\n",
        "        loss_value.backward()\n",
        "        # Gradient Clipping\n",
        "        #torch.nn.utils.clip_grad_norm_(model_2.parameters(), max_norm=1)\n",
        "        # Optim\n",
        "        optimiser.step()\n",
        "\n",
        "        epoch_loss += loss_value.item()\n",
        "    # After epoch loss calculation\n",
        "    scheduler.step(epoch_loss / len(trainloader))\n",
        "    print(\"epoch :\",epoch,\"loss\",epoch_loss/len(trainloader))\n",
        "\n",
        "    if(epoch % 5 == 0):\n",
        "      acc = val_acc(model_2,valloader,labeltransform)\n",
        "      val_acc(model_2,trainloader,labeltransform)\n",
        "    if(acc > 75):\n",
        "        #save the trained model\n",
        "        torch.save(model_2.state_dict(), 'model_75+.pth')\n",
        "        break\n",
        "    epoch_losses.append(epoch_loss)\n",
        "    epoch_loss=0"
      ]
    },
    {
      "cell_type": "code",
      "execution_count": null,
      "metadata": {},
      "outputs": [],
      "source": []
    },
    {
      "cell_type": "code",
      "execution_count": 16,
      "metadata": {
        "id": "8l_VfJPMrBwZ"
      },
      "outputs": [],
      "source": [
        "#save the trained model\n",
        "torch.save(model_2.state_dict(), 'model_76.1.pth')"
      ]
    },
    {
      "cell_type": "code",
      "execution_count": 17,
      "metadata": {
        "id": "eRmHffZBKc87"
      },
      "outputs": [
        {
          "name": "stderr",
          "output_type": "stream",
          "text": [
            "  0%|          | 0/5 [00:00<?, ?it/s]\n"
          ]
        },
        {
          "ename": "FileNotFoundError",
          "evalue": "[Errno 2] No such file or directory: 'val/images/15122022_L_GH042772_image_000103_23.png'",
          "output_type": "error",
          "traceback": [
            "\u001b[1;31m---------------------------------------------------------------------------\u001b[0m",
            "\u001b[1;31mFileNotFoundError\u001b[0m                         Traceback (most recent call last)",
            "\u001b[1;32m~\\AppData\\Local\\Temp\\ipykernel_12032\\281798527.py\u001b[0m in \u001b[0;36m<module>\u001b[1;34m\u001b[0m\n\u001b[1;32m----> 1\u001b[1;33m \u001b[0mprint\u001b[0m\u001b[1;33m(\u001b[0m\u001b[0mval_acc\u001b[0m\u001b[1;33m(\u001b[0m\u001b[0mmodel_2\u001b[0m\u001b[1;33m,\u001b[0m\u001b[0mvalloader\u001b[0m\u001b[1;33m,\u001b[0m\u001b[0mlabeltransform\u001b[0m\u001b[1;33m)\u001b[0m\u001b[1;33m)\u001b[0m\u001b[1;33m\u001b[0m\u001b[1;33m\u001b[0m\u001b[0m\n\u001b[0m\u001b[0;32m      2\u001b[0m \u001b[0mval_acc\u001b[0m\u001b[1;33m(\u001b[0m\u001b[0mmodel_2\u001b[0m\u001b[1;33m,\u001b[0m\u001b[0mtrainloader\u001b[0m\u001b[1;33m,\u001b[0m\u001b[0mlabeltransform\u001b[0m\u001b[1;33m)\u001b[0m\u001b[1;33m\u001b[0m\u001b[1;33m\u001b[0m\u001b[0m\n",
            "\u001b[1;32m~\\AppData\\Local\\Temp\\ipykernel_12032\\3352580578.py\u001b[0m in \u001b[0;36mval_acc\u001b[1;34m(model, loader, labeltransform)\u001b[0m\n\u001b[0;32m      5\u001b[0m     \u001b[0mtotal_correct\u001b[0m \u001b[1;33m=\u001b[0m \u001b[1;36m0\u001b[0m\u001b[1;33m\u001b[0m\u001b[1;33m\u001b[0m\u001b[0m\n\u001b[0;32m      6\u001b[0m     \u001b[0mtotal_samples\u001b[0m \u001b[1;33m=\u001b[0m \u001b[1;36m0\u001b[0m\u001b[1;33m\u001b[0m\u001b[1;33m\u001b[0m\u001b[0m\n\u001b[1;32m----> 7\u001b[1;33m     \u001b[1;32mfor\u001b[0m \u001b[0mdata\u001b[0m\u001b[1;33m,\u001b[0m \u001b[0mtarget\u001b[0m \u001b[1;32min\u001b[0m \u001b[0mtqdm\u001b[0m\u001b[1;33m(\u001b[0m\u001b[0mloader\u001b[0m\u001b[1;33m)\u001b[0m\u001b[1;33m:\u001b[0m\u001b[1;33m\u001b[0m\u001b[1;33m\u001b[0m\u001b[0m\n\u001b[0m\u001b[0;32m      8\u001b[0m         \u001b[0mdata\u001b[0m \u001b[1;33m=\u001b[0m \u001b[0mdata\u001b[0m\u001b[1;33m.\u001b[0m\u001b[0mto\u001b[0m\u001b[1;33m(\u001b[0m\u001b[0mdevice\u001b[0m\u001b[1;33m)\u001b[0m\u001b[1;33m\u001b[0m\u001b[1;33m\u001b[0m\u001b[0m\n\u001b[0;32m      9\u001b[0m \u001b[1;33m\u001b[0m\u001b[0m\n",
            "\u001b[1;32mc:\\Users\\bharm\\anaconda3\\lib\\site-packages\\tqdm\\std.py\u001b[0m in \u001b[0;36m__iter__\u001b[1;34m(self)\u001b[0m\n\u001b[0;32m   1193\u001b[0m \u001b[1;33m\u001b[0m\u001b[0m\n\u001b[0;32m   1194\u001b[0m         \u001b[1;32mtry\u001b[0m\u001b[1;33m:\u001b[0m\u001b[1;33m\u001b[0m\u001b[1;33m\u001b[0m\u001b[0m\n\u001b[1;32m-> 1195\u001b[1;33m             \u001b[1;32mfor\u001b[0m \u001b[0mobj\u001b[0m \u001b[1;32min\u001b[0m \u001b[0miterable\u001b[0m\u001b[1;33m:\u001b[0m\u001b[1;33m\u001b[0m\u001b[1;33m\u001b[0m\u001b[0m\n\u001b[0m\u001b[0;32m   1196\u001b[0m                 \u001b[1;32myield\u001b[0m \u001b[0mobj\u001b[0m\u001b[1;33m\u001b[0m\u001b[1;33m\u001b[0m\u001b[0m\n\u001b[0;32m   1197\u001b[0m                 \u001b[1;31m# Update and possibly print the progressbar.\u001b[0m\u001b[1;33m\u001b[0m\u001b[1;33m\u001b[0m\u001b[0m\n",
            "\u001b[1;32mc:\\Users\\bharm\\anaconda3\\lib\\site-packages\\torch\\utils\\data\\dataloader.py\u001b[0m in \u001b[0;36m__next__\u001b[1;34m(self)\u001b[0m\n\u001b[0;32m    631\u001b[0m                 \u001b[1;31m# TODO(https://github.com/pytorch/pytorch/issues/76750)\u001b[0m\u001b[1;33m\u001b[0m\u001b[1;33m\u001b[0m\u001b[0m\n\u001b[0;32m    632\u001b[0m                 \u001b[0mself\u001b[0m\u001b[1;33m.\u001b[0m\u001b[0m_reset\u001b[0m\u001b[1;33m(\u001b[0m\u001b[1;33m)\u001b[0m  \u001b[1;31m# type: ignore[call-arg]\u001b[0m\u001b[1;33m\u001b[0m\u001b[1;33m\u001b[0m\u001b[0m\n\u001b[1;32m--> 633\u001b[1;33m             \u001b[0mdata\u001b[0m \u001b[1;33m=\u001b[0m \u001b[0mself\u001b[0m\u001b[1;33m.\u001b[0m\u001b[0m_next_data\u001b[0m\u001b[1;33m(\u001b[0m\u001b[1;33m)\u001b[0m\u001b[1;33m\u001b[0m\u001b[1;33m\u001b[0m\u001b[0m\n\u001b[0m\u001b[0;32m    634\u001b[0m             \u001b[0mself\u001b[0m\u001b[1;33m.\u001b[0m\u001b[0m_num_yielded\u001b[0m \u001b[1;33m+=\u001b[0m \u001b[1;36m1\u001b[0m\u001b[1;33m\u001b[0m\u001b[1;33m\u001b[0m\u001b[0m\n\u001b[0;32m    635\u001b[0m             \u001b[1;32mif\u001b[0m \u001b[0mself\u001b[0m\u001b[1;33m.\u001b[0m\u001b[0m_dataset_kind\u001b[0m \u001b[1;33m==\u001b[0m \u001b[0m_DatasetKind\u001b[0m\u001b[1;33m.\u001b[0m\u001b[0mIterable\u001b[0m \u001b[1;32mand\u001b[0m\u001b[0;31m \u001b[0m\u001b[0;31m\\\u001b[0m\u001b[1;33m\u001b[0m\u001b[1;33m\u001b[0m\u001b[0m\n",
            "\u001b[1;32mc:\\Users\\bharm\\anaconda3\\lib\\site-packages\\torch\\utils\\data\\dataloader.py\u001b[0m in \u001b[0;36m_next_data\u001b[1;34m(self)\u001b[0m\n\u001b[0;32m    675\u001b[0m     \u001b[1;32mdef\u001b[0m \u001b[0m_next_data\u001b[0m\u001b[1;33m(\u001b[0m\u001b[0mself\u001b[0m\u001b[1;33m)\u001b[0m\u001b[1;33m:\u001b[0m\u001b[1;33m\u001b[0m\u001b[1;33m\u001b[0m\u001b[0m\n\u001b[0;32m    676\u001b[0m         \u001b[0mindex\u001b[0m \u001b[1;33m=\u001b[0m \u001b[0mself\u001b[0m\u001b[1;33m.\u001b[0m\u001b[0m_next_index\u001b[0m\u001b[1;33m(\u001b[0m\u001b[1;33m)\u001b[0m  \u001b[1;31m# may raise StopIteration\u001b[0m\u001b[1;33m\u001b[0m\u001b[1;33m\u001b[0m\u001b[0m\n\u001b[1;32m--> 677\u001b[1;33m         \u001b[0mdata\u001b[0m \u001b[1;33m=\u001b[0m \u001b[0mself\u001b[0m\u001b[1;33m.\u001b[0m\u001b[0m_dataset_fetcher\u001b[0m\u001b[1;33m.\u001b[0m\u001b[0mfetch\u001b[0m\u001b[1;33m(\u001b[0m\u001b[0mindex\u001b[0m\u001b[1;33m)\u001b[0m  \u001b[1;31m# may raise StopIteration\u001b[0m\u001b[1;33m\u001b[0m\u001b[1;33m\u001b[0m\u001b[0m\n\u001b[0m\u001b[0;32m    678\u001b[0m         \u001b[1;32mif\u001b[0m \u001b[0mself\u001b[0m\u001b[1;33m.\u001b[0m\u001b[0m_pin_memory\u001b[0m\u001b[1;33m:\u001b[0m\u001b[1;33m\u001b[0m\u001b[1;33m\u001b[0m\u001b[0m\n\u001b[0;32m    679\u001b[0m             \u001b[0mdata\u001b[0m \u001b[1;33m=\u001b[0m \u001b[0m_utils\u001b[0m\u001b[1;33m.\u001b[0m\u001b[0mpin_memory\u001b[0m\u001b[1;33m.\u001b[0m\u001b[0mpin_memory\u001b[0m\u001b[1;33m(\u001b[0m\u001b[0mdata\u001b[0m\u001b[1;33m,\u001b[0m \u001b[0mself\u001b[0m\u001b[1;33m.\u001b[0m\u001b[0m_pin_memory_device\u001b[0m\u001b[1;33m)\u001b[0m\u001b[1;33m\u001b[0m\u001b[1;33m\u001b[0m\u001b[0m\n",
            "\u001b[1;32mc:\\Users\\bharm\\anaconda3\\lib\\site-packages\\torch\\utils\\data\\_utils\\fetch.py\u001b[0m in \u001b[0;36mfetch\u001b[1;34m(self, possibly_batched_index)\u001b[0m\n\u001b[0;32m     49\u001b[0m                 \u001b[0mdata\u001b[0m \u001b[1;33m=\u001b[0m \u001b[0mself\u001b[0m\u001b[1;33m.\u001b[0m\u001b[0mdataset\u001b[0m\u001b[1;33m.\u001b[0m\u001b[0m__getitems__\u001b[0m\u001b[1;33m(\u001b[0m\u001b[0mpossibly_batched_index\u001b[0m\u001b[1;33m)\u001b[0m\u001b[1;33m\u001b[0m\u001b[1;33m\u001b[0m\u001b[0m\n\u001b[0;32m     50\u001b[0m             \u001b[1;32melse\u001b[0m\u001b[1;33m:\u001b[0m\u001b[1;33m\u001b[0m\u001b[1;33m\u001b[0m\u001b[0m\n\u001b[1;32m---> 51\u001b[1;33m                 \u001b[0mdata\u001b[0m \u001b[1;33m=\u001b[0m \u001b[1;33m[\u001b[0m\u001b[0mself\u001b[0m\u001b[1;33m.\u001b[0m\u001b[0mdataset\u001b[0m\u001b[1;33m[\u001b[0m\u001b[0midx\u001b[0m\u001b[1;33m]\u001b[0m \u001b[1;32mfor\u001b[0m \u001b[0midx\u001b[0m \u001b[1;32min\u001b[0m \u001b[0mpossibly_batched_index\u001b[0m\u001b[1;33m]\u001b[0m\u001b[1;33m\u001b[0m\u001b[1;33m\u001b[0m\u001b[0m\n\u001b[0m\u001b[0;32m     52\u001b[0m         \u001b[1;32melse\u001b[0m\u001b[1;33m:\u001b[0m\u001b[1;33m\u001b[0m\u001b[1;33m\u001b[0m\u001b[0m\n\u001b[0;32m     53\u001b[0m             \u001b[0mdata\u001b[0m \u001b[1;33m=\u001b[0m \u001b[0mself\u001b[0m\u001b[1;33m.\u001b[0m\u001b[0mdataset\u001b[0m\u001b[1;33m[\u001b[0m\u001b[0mpossibly_batched_index\u001b[0m\u001b[1;33m]\u001b[0m\u001b[1;33m\u001b[0m\u001b[1;33m\u001b[0m\u001b[0m\n",
            "\u001b[1;32mc:\\Users\\bharm\\anaconda3\\lib\\site-packages\\torch\\utils\\data\\_utils\\fetch.py\u001b[0m in \u001b[0;36m<listcomp>\u001b[1;34m(.0)\u001b[0m\n\u001b[0;32m     49\u001b[0m                 \u001b[0mdata\u001b[0m \u001b[1;33m=\u001b[0m \u001b[0mself\u001b[0m\u001b[1;33m.\u001b[0m\u001b[0mdataset\u001b[0m\u001b[1;33m.\u001b[0m\u001b[0m__getitems__\u001b[0m\u001b[1;33m(\u001b[0m\u001b[0mpossibly_batched_index\u001b[0m\u001b[1;33m)\u001b[0m\u001b[1;33m\u001b[0m\u001b[1;33m\u001b[0m\u001b[0m\n\u001b[0;32m     50\u001b[0m             \u001b[1;32melse\u001b[0m\u001b[1;33m:\u001b[0m\u001b[1;33m\u001b[0m\u001b[1;33m\u001b[0m\u001b[0m\n\u001b[1;32m---> 51\u001b[1;33m                 \u001b[0mdata\u001b[0m \u001b[1;33m=\u001b[0m \u001b[1;33m[\u001b[0m\u001b[0mself\u001b[0m\u001b[1;33m.\u001b[0m\u001b[0mdataset\u001b[0m\u001b[1;33m[\u001b[0m\u001b[0midx\u001b[0m\u001b[1;33m]\u001b[0m \u001b[1;32mfor\u001b[0m \u001b[0midx\u001b[0m \u001b[1;32min\u001b[0m \u001b[0mpossibly_batched_index\u001b[0m\u001b[1;33m]\u001b[0m\u001b[1;33m\u001b[0m\u001b[1;33m\u001b[0m\u001b[0m\n\u001b[0m\u001b[0;32m     52\u001b[0m         \u001b[1;32melse\u001b[0m\u001b[1;33m:\u001b[0m\u001b[1;33m\u001b[0m\u001b[1;33m\u001b[0m\u001b[0m\n\u001b[0;32m     53\u001b[0m             \u001b[0mdata\u001b[0m \u001b[1;33m=\u001b[0m \u001b[0mself\u001b[0m\u001b[1;33m.\u001b[0m\u001b[0mdataset\u001b[0m\u001b[1;33m[\u001b[0m\u001b[0mpossibly_batched_index\u001b[0m\u001b[1;33m]\u001b[0m\u001b[1;33m\u001b[0m\u001b[1;33m\u001b[0m\u001b[0m\n",
            "\u001b[1;32m~\\AppData\\Local\\Temp\\ipykernel_12032\\3880239302.py\u001b[0m in \u001b[0;36m__getitem__\u001b[1;34m(self, idx)\u001b[0m\n\u001b[0;32m     17\u001b[0m     \u001b[1;32mdef\u001b[0m \u001b[0m__getitem__\u001b[0m\u001b[1;33m(\u001b[0m\u001b[0mself\u001b[0m\u001b[1;33m,\u001b[0m \u001b[0midx\u001b[0m\u001b[1;33m)\u001b[0m\u001b[1;33m:\u001b[0m\u001b[1;33m\u001b[0m\u001b[1;33m\u001b[0m\u001b[0m\n\u001b[0;32m     18\u001b[0m         \u001b[0mimg_path\u001b[0m \u001b[1;33m=\u001b[0m    \u001b[0mself\u001b[0m\u001b[1;33m.\u001b[0m\u001b[0mimage_names\u001b[0m\u001b[1;33m[\u001b[0m\u001b[0midx\u001b[0m\u001b[1;33m]\u001b[0m\u001b[1;33m\u001b[0m\u001b[1;33m\u001b[0m\u001b[0m\n\u001b[1;32m---> 19\u001b[1;33m         \u001b[0mimage\u001b[0m \u001b[1;33m=\u001b[0m \u001b[0mImage\u001b[0m\u001b[1;33m.\u001b[0m\u001b[0mopen\u001b[0m\u001b[1;33m(\u001b[0m\u001b[0mimg_path\u001b[0m\u001b[1;33m)\u001b[0m\u001b[1;33m.\u001b[0m\u001b[0mconvert\u001b[0m\u001b[1;33m(\u001b[0m\u001b[1;34m'RGB'\u001b[0m\u001b[1;33m)\u001b[0m\u001b[1;33m\u001b[0m\u001b[1;33m\u001b[0m\u001b[0m\n\u001b[0m\u001b[0;32m     20\u001b[0m         \u001b[0mtext\u001b[0m \u001b[1;33m=\u001b[0m \u001b[0mself\u001b[0m\u001b[1;33m.\u001b[0m\u001b[0mtexts\u001b[0m\u001b[1;33m[\u001b[0m\u001b[0midx\u001b[0m\u001b[1;33m]\u001b[0m\u001b[1;33m\u001b[0m\u001b[1;33m\u001b[0m\u001b[0m\n\u001b[0;32m     21\u001b[0m \u001b[1;33m\u001b[0m\u001b[0m\n",
            "\u001b[1;32mc:\\Users\\bharm\\anaconda3\\lib\\site-packages\\PIL\\Image.py\u001b[0m in \u001b[0;36mopen\u001b[1;34m(fp, mode, formats)\u001b[0m\n\u001b[0;32m   2966\u001b[0m \u001b[1;33m\u001b[0m\u001b[0m\n\u001b[0;32m   2967\u001b[0m     \u001b[1;32mif\u001b[0m \u001b[0mfilename\u001b[0m\u001b[1;33m:\u001b[0m\u001b[1;33m\u001b[0m\u001b[1;33m\u001b[0m\u001b[0m\n\u001b[1;32m-> 2968\u001b[1;33m         \u001b[0mfp\u001b[0m \u001b[1;33m=\u001b[0m \u001b[0mbuiltins\u001b[0m\u001b[1;33m.\u001b[0m\u001b[0mopen\u001b[0m\u001b[1;33m(\u001b[0m\u001b[0mfilename\u001b[0m\u001b[1;33m,\u001b[0m \u001b[1;34m\"rb\"\u001b[0m\u001b[1;33m)\u001b[0m\u001b[1;33m\u001b[0m\u001b[1;33m\u001b[0m\u001b[0m\n\u001b[0m\u001b[0;32m   2969\u001b[0m         \u001b[0mexclusive_fp\u001b[0m \u001b[1;33m=\u001b[0m \u001b[1;32mTrue\u001b[0m\u001b[1;33m\u001b[0m\u001b[1;33m\u001b[0m\u001b[0m\n\u001b[0;32m   2970\u001b[0m \u001b[1;33m\u001b[0m\u001b[0m\n",
            "\u001b[1;31mFileNotFoundError\u001b[0m: [Errno 2] No such file or directory: 'val/images/15122022_L_GH042772_image_000103_23.png'"
          ]
        }
      ],
      "source": [
        "print(val_acc(model_2,valloader,labeltransform))\n",
        "val_acc(model_2,trainloader,labeltransform)"
      ]
    },
    {
      "cell_type": "code",
      "execution_count": null,
      "metadata": {
        "id": "iF3xTPgeCPYg"
      },
      "outputs": [],
      "source": []
    },
    {
      "cell_type": "code",
      "execution_count": null,
      "metadata": {
        "id": "Nqpfsd__7Z9F"
      },
      "outputs": [],
      "source": []
    }
  ],
  "metadata": {
    "accelerator": "GPU",
    "colab": {
      "gpuType": "T4",
      "provenance": []
    },
    "kernelspec": {
      "display_name": "Python 3",
      "name": "python3"
    },
    "language_info": {
      "codemirror_mode": {
        "name": "ipython",
        "version": 3
      },
      "file_extension": ".py",
      "mimetype": "text/x-python",
      "name": "python",
      "nbconvert_exporter": "python",
      "pygments_lexer": "ipython3",
      "version": "3.9.13"
    }
  },
  "nbformat": 4,
  "nbformat_minor": 0
}
